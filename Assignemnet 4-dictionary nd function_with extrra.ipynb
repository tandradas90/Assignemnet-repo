{
 "cells": [
  {
   "cell_type": "code",
   "execution_count": 1,
   "metadata": {},
   "outputs": [
    {
     "name": "stdout",
     "output_type": "stream",
     "text": [
      "a= 3\n",
      "b= 4\n",
      "c= 5\n"
     ]
    },
    {
     "ename": "TypeError",
     "evalue": "__init__() missing 2 required positional arguments: 'b' and 'c'",
     "output_type": "error",
     "traceback": [
      "\u001b[1;31m---------------------------------------------------------------------------\u001b[0m",
      "\u001b[1;31mTypeError\u001b[0m                                 Traceback (most recent call last)",
      "\u001b[1;32m<ipython-input-1-d1113ffcb192>\u001b[0m in \u001b[0;36m<module>\u001b[1;34m\u001b[0m\n\u001b[0;32m     19\u001b[0m \u001b[1;33m\u001b[0m\u001b[0m\n\u001b[0;32m     20\u001b[0m \u001b[0mar\u001b[0m\u001b[1;33m=\u001b[0m\u001b[0mareatri\u001b[0m\u001b[1;33m(\u001b[0m\u001b[0ma\u001b[0m\u001b[1;33m,\u001b[0m\u001b[0mb\u001b[0m\u001b[1;33m,\u001b[0m\u001b[0mc\u001b[0m\u001b[1;33m)\u001b[0m\u001b[1;33m\u001b[0m\u001b[1;33m\u001b[0m\u001b[0m\n\u001b[1;32m---> 21\u001b[1;33m \u001b[0mprint\u001b[0m\u001b[1;33m(\u001b[0m\u001b[0mar\u001b[0m\u001b[1;33m.\u001b[0m\u001b[0marea_of_triangle\u001b[0m\u001b[1;33m(\u001b[0m\u001b[1;33m)\u001b[0m\u001b[1;33m)\u001b[0m\u001b[1;33m\u001b[0m\u001b[1;33m\u001b[0m\u001b[0m\n\u001b[0m\u001b[0;32m     22\u001b[0m \u001b[1;33m\u001b[0m\u001b[0m\n\u001b[0;32m     23\u001b[0m \u001b[1;33m\u001b[0m\u001b[0m\n",
      "\u001b[1;32m<ipython-input-1-d1113ffcb192>\u001b[0m in \u001b[0;36marea_of_triangle\u001b[1;34m(self, *args)\u001b[0m\n\u001b[0;32m     13\u001b[0m \u001b[1;32mclass\u001b[0m \u001b[0mareatri\u001b[0m\u001b[1;33m(\u001b[0m\u001b[0mside_of_area\u001b[0m\u001b[1;33m)\u001b[0m\u001b[1;33m:\u001b[0m\u001b[1;33m\u001b[0m\u001b[1;33m\u001b[0m\u001b[0m\n\u001b[0;32m     14\u001b[0m     \u001b[1;32mdef\u001b[0m \u001b[0marea_of_triangle\u001b[0m\u001b[1;33m(\u001b[0m\u001b[0mself\u001b[0m\u001b[1;33m,\u001b[0m\u001b[1;33m*\u001b[0m\u001b[0margs\u001b[0m\u001b[1;33m)\u001b[0m\u001b[1;33m:\u001b[0m\u001b[1;33m\u001b[0m\u001b[1;33m\u001b[0m\u001b[0m\n\u001b[1;32m---> 15\u001b[1;33m         \u001b[0msuper\u001b[0m\u001b[1;33m(\u001b[0m\u001b[0mareatri\u001b[0m\u001b[1;33m,\u001b[0m\u001b[0mself\u001b[0m\u001b[1;33m)\u001b[0m\u001b[1;33m.\u001b[0m\u001b[0m__init__\u001b[0m\u001b[1;33m(\u001b[0m\u001b[0mself\u001b[0m\u001b[1;33m,\u001b[0m\u001b[1;33m*\u001b[0m\u001b[0margs\u001b[0m\u001b[1;33m)\u001b[0m\u001b[1;33m\u001b[0m\u001b[1;33m\u001b[0m\u001b[0m\n\u001b[0m\u001b[0;32m     16\u001b[0m         \u001b[0ms\u001b[0m\u001b[1;33m=\u001b[0m\u001b[1;33m(\u001b[0m\u001b[0ma\u001b[0m\u001b[1;33m+\u001b[0m\u001b[0mb\u001b[0m\u001b[1;33m+\u001b[0m\u001b[0mc\u001b[0m\u001b[1;33m)\u001b[0m\u001b[1;33m/\u001b[0m\u001b[1;36m2\u001b[0m\u001b[1;33m\u001b[0m\u001b[1;33m\u001b[0m\u001b[0m\n\u001b[0;32m     17\u001b[0m         \u001b[1;32mreturn\u001b[0m \u001b[1;33m(\u001b[0m\u001b[0ms\u001b[0m\u001b[1;33m(\u001b[0m\u001b[0ms\u001b[0m\u001b[1;33m-\u001b[0m\u001b[0mself\u001b[0m\u001b[1;33m.\u001b[0m\u001b[0ma\u001b[0m\u001b[1;33m)\u001b[0m\u001b[1;33m*\u001b[0m\u001b[1;33m(\u001b[0m\u001b[0ms\u001b[0m\u001b[1;33m-\u001b[0m\u001b[0mself\u001b[0m\u001b[1;33m.\u001b[0m\u001b[0mb\u001b[0m\u001b[1;33m)\u001b[0m\u001b[1;33m*\u001b[0m\u001b[1;33m(\u001b[0m\u001b[0ms\u001b[0m\u001b[1;33m-\u001b[0m\u001b[0mself\u001b[0m\u001b[1;33m.\u001b[0m\u001b[0mc\u001b[0m\u001b[1;33m)\u001b[0m\u001b[1;33m)\u001b[0m\u001b[1;33m*\u001b[0m\u001b[1;36m0.5\u001b[0m\u001b[1;33m\u001b[0m\u001b[1;33m\u001b[0m\u001b[0m\n",
      "\u001b[1;31mTypeError\u001b[0m: __init__() missing 2 required positional arguments: 'b' and 'c'"
     ]
    }
   ],
   "source": [
    "#1.Area of triangle\n",
    "#area=(s(s-a)*s(s-b)*s(s-c))*0.5\n",
    "\n",
    "class side_of_area:\n",
    "    def __init__(self,a,b,c):\n",
    "        self.a=a\n",
    "        self.b=b\n",
    "        self.c=c\n",
    "a=int(input(\"a= \"))\n",
    "b=int(input(\"b= \"))\n",
    "c=int(input(\"c= \"))           \n",
    "    \n",
    "class areatri(side_of_area):\n",
    "    def area_of_triangle(self,*args):\n",
    "        super(areatri,self).__init__(self,*args)\n",
    "        s=(a+b+c)/2\n",
    "        return (s(s-self.a)*(s-self.b)*(s-self.c))*0.5\n",
    "        \n",
    "\n",
    "ar=areatri(a,b,c)\n",
    "print(ar.area_of_triangle())\n",
    "\n",
    "\n",
    "    "
   ]
  },
  {
   "cell_type": "code",
   "execution_count": null,
   "metadata": {},
   "outputs": [],
   "source": [
    "class side_of_area:\n",
    "    def _init_(self, a,b,c):\n",
    "        self.a=a\n",
    "        self.b=b\n",
    "        self.c=c\n",
    "a=int(input(\"a= \"))\n",
    "b=int(input(\"b= \"))\n",
    "c=int(input(\"c= \"))           \n",
    "    \n",
    "class areatri(side_of_area):\n",
    "    def area_of_triangle(self, *args):\n",
    "\n",
    "        super(areatri, self)._init_(*args)\n",
    "        sb=(self.a+self.b+self.c)/2\n",
    "        return (sb*(sb-self.a)*(sb-self.b)*(sb-self.c))*0.5\n",
    "        \n",
    "\n",
    "ar=areatri(a,b,c)\n",
    "print(ar.area_of_triangle())"
   ]
  },
  {
   "cell_type": "code",
   "execution_count": null,
   "metadata": {},
   "outputs": [],
   "source": []
  },
  {
   "cell_type": "code",
   "execution_count": 28,
   "metadata": {},
   "outputs": [
    {
     "name": "stdout",
     "output_type": "stream",
     "text": [
      "['sdfsdcdff', 'edfeded']\n"
     ]
    }
   ],
   "source": [
    "#2.WA function filter_long_word() which takes list of string and an inter n, returns the list word that is longer than n.\n",
    "my_list=[\"dfd\",\"sdfsdcdff\",\"ewdsd\",\"edfeded\"]\n",
    "def filter_long_word(w_list,length):\n",
    "    s=[]\n",
    "    for i in w_list:\n",
    "        if len(i)>length:\n",
    "            s.append(i)\n",
    "    return s\n",
    "\n",
    "N=filter_long_word(my_list,5)\n",
    "print(N)"
   ]
  },
  {
   "cell_type": "code",
   "execution_count": 25,
   "metadata": {},
   "outputs": [
    {
     "name": "stdout",
     "output_type": "stream",
     "text": [
      "tandra\n",
      "rani\n"
     ]
    }
   ],
   "source": [
    "a=[\"tandra\",\"rani\",\"das\"]\n",
    "#n=int(input(\"enter the limit: \"))\n",
    "s=0\n",
    "def filter_long_word(n):\n",
    "    for i in range(0,len(a)):\n",
    "        if len(a[i])>=n:\n",
    "            s=i\n",
    "            print(a[s])\n",
    "filter_long_word(4)"
   ]
  },
  {
   "cell_type": "code",
   "execution_count": null,
   "metadata": {},
   "outputs": [],
   "source": [
    "\n",
    "a=input(\"enter the word\")\n",
    "a_len=len(a)\n",
    "n=int(input(\"enter the number: \"))\n",
    "while a_len>n:\n",
    "    print(\"this word {} ,will be printed as the word is more than {} in length\".format(a,n))\n",
    "    break\n",
    "else:\n",
    "    print(\"length of {} is less than {},so cant be printed \".format(a,n))\n",
    "    \n",
    "            \n",
    "   \n",
    "     "
   ]
  },
  {
   "cell_type": "code",
   "execution_count": null,
   "metadata": {},
   "outputs": [],
   "source": []
  },
  {
   "cell_type": "code",
   "execution_count": 14,
   "metadata": {},
   "outputs": [
    {
     "name": "stdout",
     "output_type": "stream",
     "text": [
      "[6, 4, 6]\n"
     ]
    }
   ],
   "source": [
    "#3.WAP using function concept that maps list of words into list of numbers based on the length of corresponding word.\n",
    "a=[\"tandra\",\"rani\",\"hjdcgj\"]\n",
    "def map_it(any):\n",
    "    s=[]\n",
    "    for i in a:\n",
    "        s.append(len(i))\n",
    "    return s\n",
    "\n",
    "s=map_it(a)\n",
    "print(s)"
   ]
  },
  {
   "cell_type": "code",
   "execution_count": 20,
   "metadata": {},
   "outputs": [
    {
     "name": "stdout",
     "output_type": "stream",
     "text": [
      "[6, 4, 6]\n"
     ]
    }
   ],
   "source": [
    "a=[\"tandra\",\"rani\",\"hjdcgj\"]\n",
    "#b=len(a)\n",
    "s=[]\n",
    "def map_it(b):\n",
    "    for i in a:\n",
    "        s.append(len(i))\n",
    "    return s\n",
    "s=map_it(a)\n",
    "print(s)"
   ]
  },
  {
   "cell_type": "code",
   "execution_count": 21,
   "metadata": {},
   "outputs": [
    {
     "name": "stdout",
     "output_type": "stream",
     "text": [
      "6\n",
      "4\n",
      "6\n"
     ]
    }
   ],
   "source": [
    "\n",
    "a=[\"tandra\",\"rani\",\"hjdcgj\"]\n",
    "b=len(a)\n",
    "\n",
    "def map_it():\n",
    "    for i in range(0,b):\n",
    "        print(len(a[i]))\n",
    "map_it()"
   ]
  },
  {
   "cell_type": "code",
   "execution_count": null,
   "metadata": {},
   "outputs": [],
   "source": []
  },
  {
   "cell_type": "code",
   "execution_count": 7,
   "metadata": {},
   "outputs": [
    {
     "name": "stdout",
     "output_type": "stream",
     "text": [
      "enter the letter: y\n",
      "y is not a vowel\n"
     ]
    }
   ],
   "source": [
    "#4.WAP which takes a string(of length 1) and returns true if its vowel or else false\n",
    "n=input(\"enter the letter: \")\n",
    "#def is_vowel(n):\n",
    "if(n ==\"a\" or n ==\"e\"or n ==\"i\" or n ==\"o\" or n ==\"u\"):\n",
    "    print(\"{} is a vowel\".format(n))\n",
    "else:\n",
    "    print(\"{} is not a vowel\".format(n))\n"
   ]
  },
  {
   "cell_type": "code",
   "execution_count": 24,
   "metadata": {},
   "outputs": [
    {
     "data": {
      "text/plain": [
       "False"
      ]
     },
     "execution_count": 24,
     "metadata": {},
     "output_type": "execute_result"
    }
   ],
   "source": [
    "def check_vowel(check_char):\n",
    "    v_list=[\"a\",\"e\",\"i\",\"o\",\"u\",\"A\",\"E\",\"I\",\"O\",\"U\"]\n",
    "    if check_char in v_list:\n",
    "        return True\n",
    "    else:\n",
    "        return False\n",
    "check_vowel(\"M\")\n"
   ]
  },
  {
   "cell_type": "code",
   "execution_count": 22,
   "metadata": {},
   "outputs": [
    {
     "data": {
      "text/plain": [
       "True"
      ]
     },
     "execution_count": 22,
     "metadata": {},
     "output_type": "execute_result"
    }
   ],
   "source": [
    "\n",
    "def is_vowel(n):\n",
    "    if(n ==\"a\" or n ==\"e\"or n ==\"i\" or n ==\"o\" or n ==\"u\",n ==\"A\" or n ==\"E\"or n ==\"I\" or n ==\"O\" or n ==\"U\"):\n",
    "        #print(\"{} is a vowel\".format(n))\n",
    "        return True\n",
    "    else:\n",
    "        #print(\"{} is not a vowel\".format(n))\n",
    "        return False\n",
    "is_vowel(\"A\")"
   ]
  }
 ],
 "metadata": {
  "kernelspec": {
   "display_name": "Python 3",
   "language": "python",
   "name": "python3"
  },
  "language_info": {
   "codemirror_mode": {
    "name": "ipython",
    "version": 3
   },
   "file_extension": ".py",
   "mimetype": "text/x-python",
   "name": "python",
   "nbconvert_exporter": "python",
   "pygments_lexer": "ipython3",
   "version": "3.8.5"
  }
 },
 "nbformat": 4,
 "nbformat_minor": 4
}
