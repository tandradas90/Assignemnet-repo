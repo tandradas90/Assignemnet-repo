{
 "cells": [
  {
   "cell_type": "code",
   "execution_count": 1,
   "metadata": {},
   "outputs": [
    {
     "name": "stdout",
     "output_type": "stream",
     "text": [
      "2002,2009,2016,2023,2037,2044,2051,2058,2072,2079,2086,2093,2107,2114,2121,2128,2142,2149,2156,2163,2177,2184,2191,2198,2212,2219,2226,2233,2247,2254,2261,2268,2282,2289,2296,2303,2317,2324,2331,2338,2352,2359,2366,2373,2387,2394,2401,2408,2422,2429,2436,2443,2457,2464,2471,2478,2492,2499,2506,2513,2527,2534,2541,2548,2562,2569,2576,2583,2597,2604,2611,2618,2632,2639,2646,2653,2667,2674,2681,2688,2702,2709,2716,2723,2737,2744,2751,2758,2772,2779,2786,2793,2807,2814,2821,2828,2842,2849,2856,2863,2877,2884,2891,2898,2912,2919,2926,2933,2947,2954,2961,2968,2982,2989,2996,3003,3017,3024,3031,3038,3052,3059,3066,3073,3087,3094,3101,3108,3122,3129,3136,3143,3157,3164,3171,3178,3192,3199,"
     ]
    }
   ],
   "source": [
    "'''\n",
    "1:write a program which will find all such number which is divisible by 7 but not a multiple of 5, \n",
    "between 2000 and 3200 (both included). The numbers obtained should be printed in a \n",
    "comma-separated sequence on a single line.\n",
    "'''\n",
    "\n",
    "for i in range(2000,3201):\n",
    "    if (i%7==0 and i%5 !=0):\n",
    "        print(i,end=\",\")\n",
    "    "
   ]
  },
  {
   "cell_type": "code",
   "execution_count": null,
   "metadata": {},
   "outputs": [],
   "source": []
  },
  {
   "cell_type": "code",
   "execution_count": 2,
   "metadata": {},
   "outputs": [
    {
     "name": "stdout",
     "output_type": "stream",
     "text": [
      "Enter first nametandra\n",
      "enter last namerani\n",
      "my name is ardnat inar\n",
      "my name is rani tandra\n"
     ]
    }
   ],
   "source": [
    "'''\n",
    "2:WAP to accept users first and last name and getting then printed in reverse order with a space in between \n",
    "first and last name\n",
    "\n",
    "'''\n",
    "a=input(\"Enter first name\")\n",
    "b=input(\"enter last name\")\n",
    "#A=\"\"\n",
    "#B=\"\"\n",
    " \n",
    "for i in range(len(a)):\n",
    "    A=(a[-1::-1])\n",
    "    break\n",
    "    \n",
    "for j in range(len(b)):\n",
    "    B=(b[-1::-1])\n",
    "    break\n",
    "print(\"my name is \"+ A +\" \" + B)\n",
    "print(\"my name is \" + b + \" \" + a)"
   ]
  },
  {
   "cell_type": "code",
   "execution_count": 3,
   "metadata": {},
   "outputs": [
    {
     "name": "stdout",
     "output_type": "stream",
     "text": [
      "enter first nametandra\n",
      "enter last namerani\n",
      "ardnat inar\n"
     ]
    }
   ],
   "source": [
    "f_name=input(\"enter first name\")\n",
    "l_name=input(\"enter last name\")\n",
    "\n",
    "def name_reverse(x,y):\n",
    "    x=f_name\n",
    "    y=l_name\n",
    "    full_name=x[::-1]+\" \"+y[::-1]\n",
    "    return full_name\n",
    "print(name_reverse(f_name,l_name))\n",
    "\n",
    "    "
   ]
  },
  {
   "cell_type": "code",
   "execution_count": null,
   "metadata": {},
   "outputs": [],
   "source": []
  },
  {
   "cell_type": "code",
   "execution_count": 4,
   "metadata": {},
   "outputs": [
    {
     "name": "stdout",
     "output_type": "stream",
     "text": [
      " v =  7234.5599999999995\n"
     ]
    }
   ],
   "source": [
    "'''\n",
    "WAP to  find volume of a spehere with diamiter 12 cm\n",
    "Formula: V=4/3 * π * r 3\n",
    "'''\n",
    "pi=3.14\n",
    "def sphere(r):\n",
    "    print(\" v = \",((4/3)*pi*(r**3)))\n",
    "    \n",
    "sphere(12)\n"
   ]
  },
  {
   "cell_type": "code",
   "execution_count": null,
   "metadata": {},
   "outputs": [],
   "source": []
  }
 ],
 "metadata": {
  "kernelspec": {
   "display_name": "Python 3",
   "language": "python",
   "name": "python3"
  },
  "language_info": {
   "codemirror_mode": {
    "name": "ipython",
    "version": 3
   },
   "file_extension": ".py",
   "mimetype": "text/x-python",
   "name": "python",
   "nbconvert_exporter": "python",
   "pygments_lexer": "ipython3",
   "version": "3.8.5"
  }
 },
 "nbformat": 4,
 "nbformat_minor": 4
}
